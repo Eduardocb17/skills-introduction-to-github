{
  "nbformat": 4,
  "nbformat_minor": 0,
  "metadata": {
    "colab": {
      "provenance": [],
      "authorship_tag": "ABX9TyPdn0zJ2Tb3VzjgMTYfkJBK",
      "include_colab_link": true
    },
    "kernelspec": {
      "name": "python3",
      "display_name": "Python 3"
    },
    "language_info": {
      "name": "python"
    }
  },
  "cells": [
    {
      "cell_type": "markdown",
      "metadata": {
        "id": "view-in-github",
        "colab_type": "text"
      },
      "source": [
        "<a href=\"https://colab.research.google.com/github/Eduardocb17/skills-introduction-to-github/blob/main/sabor_express.ipynb\" target=\"_parent\"><img src=\"https://colab.research.google.com/assets/colab-badge.svg\" alt=\"Open In Colab\"/></a>"
      ]
    },
    {
      "cell_type": "markdown",
      "source": [],
      "metadata": {
        "id": "JKniyjMWawwz"
      }
    },
    {
      "cell_type": "code",
      "source": [
        "import os\n",
        "\n",
        "restaurantes = [{'nome':'Praça', 'categoria':'Japonesa', 'ativo':False},\n",
        "                    {'nome':'Pizza Superma', 'categoria':'Pizza', 'ativo':True},\n",
        "                    {'nome':'Cantina', 'categoria':'Italiano', 'ativo':False}]\n",
        "\n",
        "\n",
        "def exibir_nome_do_programa():\n",
        "    print(\"\"\"\n",
        "░██████╗░█████╗░██████╗░░█████╗░██████╗░  ███████╗██╗░░██╗██████╗░██████╗░███████╗░██████╗░██████╗\n",
        "██╔════╝██╔══██╗██╔══██╗██╔══██╗██╔══██╗  ██╔════╝╚██╗██╔╝██╔══██╗██╔══██╗██╔════╝██╔════╝██╔════╝\n",
        "╚█████╗░███████║██████╦╝██║░░██║██████╔╝  █████╗░░░╚███╔╝░██████╔╝██████╔╝█████╗░░╚█████╗░╚█████╗░\n",
        "░╚═══██╗██╔══██║██╔══██╗██║░░██║██╔══██╗  ██╔══╝░░░██╔██╗░██╔═══╝░██╔══██╗██╔══╝░░░╚═══██╗░╚═══██╗\n",
        "██████╔╝██║░░██║██████╦╝╚█████╔╝██║░░██║  ███████╗██╔╝╚██╗██║░░░░░██║░░██║███████╗██████╔╝██████╔╝\n",
        "╚═════╝░╚═╝░░╚═╝╚═════╝░░╚════╝░╚═╝░░╚═╝  ╚══════╝╚═╝░░╚═╝╚═╝░░░░░╚═╝░░╚═╝╚══════╝╚═════╝░╚═════╝░\n",
        "\"\"\")\n",
        "\n",
        "def exibir_opcoes():\n",
        "    print('1. Cadastrar restaurante')\n",
        "    print('2. Listar restaurantes')\n",
        "    print('3. Ativar restaurante')\n",
        "    print('4. Sair\\n')\n",
        "\n",
        "def finalizar_app():\n",
        "    exibir_subtitulo('Finalizar app')\n",
        "\n",
        "def voltar_ao_menu_principal():\n",
        "    input('\\nDigite uma tecla para voltar ao menu ')\n",
        "    main()\n",
        "\n",
        "def opcao_invalida():\n",
        "    print('Opção inválida!\\n')\n",
        "    voltar_ao_menu_principal()\n",
        "\n",
        "def exibir_subtitulo(texto):\n",
        "    os.system('cls')\n",
        "    print(texto)\n",
        "    print()\n",
        "\n",
        "def cadastrar_novo_restaurante():\n",
        "    exibir_subtitulo('Cadastro de novos restaurantes')\n",
        "    nome_do_restaurante = input('Digite o nome do restaurante que deseja cadastrar: ')\n",
        "    categoria = input(f'Digite o nome da categoria do restaurante nome_do_restaurante):')\n",
        "    dados_do_restaurante = {'nome':nome_do_restaurante, 'categoria':categoria, 'ativo':False}\n",
        "    restaurantes.append(dados_do_restaurante)\n",
        "    print(f'O restaurante {nome_do_restaurante} foi cadastrado com sucesso!')\n",
        "\n",
        "\n",
        "    voltar_ao_menu_principal()\n",
        "\n",
        "def listar_restaurantes():\n",
        "    exibir_subtitulo('Listando restaurantes')\n",
        "\n",
        "for restaurante in restaurantes:\n",
        "    nome_restaurante = restaurante['nome']\n",
        "    categoria = restaurante['categoria']\n",
        "    ativo = restaurante['ativo']\n",
        "    print(f' - {nome_restaurante} | {categoria} | {ativo}')\n",
        "\n",
        "\n",
        "    voltar_ao_menu_principal()\n",
        "\n",
        "def escolher_opcao():\n",
        "    try:\n",
        "        opcao_escolhida = int(input('Escolha uma opção: '))\n",
        "        # opcao_escolhida = int(opcao_escolhida)\n",
        "\n",
        "        if opcao_escolhida == 1:\n",
        "            cadastrar_novo_restaurante()\n",
        "        elif opcao_escolhida == 2:\n",
        "            listar_restaurantes()\n",
        "        elif opcao_escolhida == 3:\n",
        "            print('Ativar restaurante')\n",
        "        elif opcao_escolhida == 4:\n",
        "            finalizar_app()\n",
        "        else:\n",
        "            opcao_invalida()\n",
        "    except:\n",
        "        opcao_invalida()\n",
        "\n",
        "def main():\n",
        "    os.system('cls')\n",
        "    exibir_nome_do_programa()\n",
        "    exibir_opcoes()\n",
        "    escolher_opcao()\n",
        "\n",
        "if __name__ == '__main__':\n",
        "    main()"
      ],
      "metadata": {
        "colab": {
          "base_uri": "https://localhost:8080/",
          "height": 928
        },
        "collapsed": true,
        "id": "Im7CT-5QXfc1",
        "outputId": "b17c63c5-c582-441d-a2d9-587cfde49f14"
      },
      "execution_count": 3,
      "outputs": [
        {
          "metadata": {
            "tags": null
          },
          "name": "stdout",
          "output_type": "stream",
          "text": [
            " - Praça | Japonesa | False\n",
            "\n",
            "░██████╗░█████╗░██████╗░░█████╗░██████╗░  ███████╗██╗░░██╗██████╗░██████╗░███████╗░██████╗░██████╗\n",
            "██╔════╝██╔══██╗██╔══██╗██╔══██╗██╔══██╗  ██╔════╝╚██╗██╔╝██╔══██╗██╔══██╗██╔════╝██╔════╝██╔════╝\n",
            "╚█████╗░███████║██████╦╝██║░░██║██████╔╝  █████╗░░░╚███╔╝░██████╔╝██████╔╝█████╗░░╚█████╗░╚█████╗░\n",
            "░╚═══██╗██╔══██║██╔══██╗██║░░██║██╔══██╗  ██╔══╝░░░██╔██╗░██╔═══╝░██╔══██╗██╔══╝░░░╚═══██╗░╚═══██╗\n",
            "██████╔╝██║░░██║██████╦╝╚█████╔╝██║░░██║  ███████╗██╔╝╚██╗██║░░░░░██║░░██║███████╗██████╔╝██████╔╝\n",
            "╚═════╝░╚═╝░░╚═╝╚═════╝░░╚════╝░╚═╝░░╚═╝  ╚══════╝╚═╝░░╚═╝╚═╝░░░░░╚═╝░░╚═╝╚══════╝╚═════╝░╚═════╝░  \n",
            "\n",
            "1. Cadastrar restaurante\n",
            "2. Listar restaurantes\n",
            "3. Ativar restaurante\n",
            "4. Sair\n",
            "\n",
            "Cadastro de novos restaurantes\n",
            "\n",
            "O restaurante tacos cool foi cadastrado com sucesso!\n",
            "\n",
            "░██████╗░█████╗░██████╗░░█████╗░██████╗░  ███████╗██╗░░██╗██████╗░██████╗░███████╗░██████╗░██████╗\n",
            "██╔════╝██╔══██╗██╔══██╗██╔══██╗██╔══██╗  ██╔════╝╚██╗██╔╝██╔══██╗██╔══██╗██╔════╝██╔════╝██╔════╝\n",
            "╚█████╗░███████║██████╦╝██║░░██║██████╔╝  █████╗░░░╚███╔╝░██████╔╝██████╔╝█████╗░░╚█████╗░╚█████╗░\n",
            "░╚═══██╗██╔══██║██╔══██╗██║░░██║██╔══██╗  ██╔══╝░░░██╔██╗░██╔═══╝░██╔══██╗██╔══╝░░░╚═══██╗░╚═══██╗\n",
            "██████╔╝██║░░██║██████╦╝╚█████╔╝██║░░██║  ███████╗██╔╝╚██╗██║░░░░░██║░░██║███████╗██████╔╝██████╔╝\n",
            "╚═════╝░╚═╝░░╚═╝╚═════╝░░╚════╝░╚═╝░░╚═╝  ╚══════╝╚═╝░░╚═╝╚═╝░░░░░╚═╝░░╚═╝╚══════╝╚═════╝░╚═════╝░  \n",
            "\n",
            "1. Cadastrar restaurante\n",
            "2. Listar restaurantes\n",
            "3. Ativar restaurante\n",
            "4. Sair\n",
            "\n",
            "Listando restaurantes\n",
            "\n",
            " - Pizza Superma | Pizza | True\n"
          ]
        },
        {
          "output_type": "error",
          "ename": "KeyboardInterrupt",
          "evalue": "Interrupted by user",
          "traceback": [
            "\u001b[0;31m---------------------------------------------------------------------------\u001b[0m",
            "\u001b[0;31mKeyboardInterrupt\u001b[0m                         Traceback (most recent call last)",
            "\u001b[0;32m<ipython-input-3-3726782094>\u001b[0m in \u001b[0;36m<cell line: 0>\u001b[0;34m()\u001b[0m\n\u001b[1;32m     59\u001b[0m \u001b[0;34m\u001b[0m\u001b[0m\n\u001b[1;32m     60\u001b[0m \u001b[0;34m\u001b[0m\u001b[0m\n\u001b[0;32m---> 61\u001b[0;31m     \u001b[0mvoltar_ao_menu_principal\u001b[0m\u001b[0;34m(\u001b[0m\u001b[0;34m)\u001b[0m\u001b[0;34m\u001b[0m\u001b[0;34m\u001b[0m\u001b[0m\n\u001b[0m\u001b[1;32m     62\u001b[0m \u001b[0;34m\u001b[0m\u001b[0m\n\u001b[1;32m     63\u001b[0m \u001b[0;32mdef\u001b[0m \u001b[0mescolher_opcao\u001b[0m\u001b[0;34m(\u001b[0m\u001b[0;34m)\u001b[0m\u001b[0;34m:\u001b[0m\u001b[0;34m\u001b[0m\u001b[0;34m\u001b[0m\u001b[0m\n",
            "\u001b[0;32m<ipython-input-3-3726782094>\u001b[0m in \u001b[0;36mvoltar_ao_menu_principal\u001b[0;34m()\u001b[0m\n\u001b[1;32m     26\u001b[0m \u001b[0;34m\u001b[0m\u001b[0m\n\u001b[1;32m     27\u001b[0m \u001b[0;32mdef\u001b[0m \u001b[0mvoltar_ao_menu_principal\u001b[0m\u001b[0;34m(\u001b[0m\u001b[0;34m)\u001b[0m\u001b[0;34m:\u001b[0m\u001b[0;34m\u001b[0m\u001b[0;34m\u001b[0m\u001b[0m\n\u001b[0;32m---> 28\u001b[0;31m     \u001b[0minput\u001b[0m\u001b[0;34m(\u001b[0m\u001b[0;34m'\\nDigite uma tecla para voltar ao menu '\u001b[0m\u001b[0;34m)\u001b[0m\u001b[0;34m\u001b[0m\u001b[0;34m\u001b[0m\u001b[0m\n\u001b[0m\u001b[1;32m     29\u001b[0m     \u001b[0mmain\u001b[0m\u001b[0;34m(\u001b[0m\u001b[0;34m)\u001b[0m\u001b[0;34m\u001b[0m\u001b[0;34m\u001b[0m\u001b[0m\n\u001b[1;32m     30\u001b[0m \u001b[0;34m\u001b[0m\u001b[0m\n",
            "\u001b[0;32m/usr/local/lib/python3.11/dist-packages/ipykernel/kernelbase.py\u001b[0m in \u001b[0;36mraw_input\u001b[0;34m(self, prompt)\u001b[0m\n\u001b[1;32m   1175\u001b[0m                 \u001b[0;34m\"raw_input was called, but this frontend does not support input requests.\"\u001b[0m\u001b[0;34m\u001b[0m\u001b[0;34m\u001b[0m\u001b[0m\n\u001b[1;32m   1176\u001b[0m             )\n\u001b[0;32m-> 1177\u001b[0;31m         return self._input_request(\n\u001b[0m\u001b[1;32m   1178\u001b[0m             \u001b[0mstr\u001b[0m\u001b[0;34m(\u001b[0m\u001b[0mprompt\u001b[0m\u001b[0;34m)\u001b[0m\u001b[0;34m,\u001b[0m\u001b[0;34m\u001b[0m\u001b[0;34m\u001b[0m\u001b[0m\n\u001b[1;32m   1179\u001b[0m             \u001b[0mself\u001b[0m\u001b[0;34m.\u001b[0m\u001b[0m_parent_ident\u001b[0m\u001b[0;34m[\u001b[0m\u001b[0;34m\"shell\"\u001b[0m\u001b[0;34m]\u001b[0m\u001b[0;34m,\u001b[0m\u001b[0;34m\u001b[0m\u001b[0;34m\u001b[0m\u001b[0m\n",
            "\u001b[0;32m/usr/local/lib/python3.11/dist-packages/ipykernel/kernelbase.py\u001b[0m in \u001b[0;36m_input_request\u001b[0;34m(self, prompt, ident, parent, password)\u001b[0m\n\u001b[1;32m   1217\u001b[0m             \u001b[0;32mexcept\u001b[0m \u001b[0mKeyboardInterrupt\u001b[0m\u001b[0;34m:\u001b[0m\u001b[0;34m\u001b[0m\u001b[0;34m\u001b[0m\u001b[0m\n\u001b[1;32m   1218\u001b[0m                 \u001b[0;31m# re-raise KeyboardInterrupt, to truncate traceback\u001b[0m\u001b[0;34m\u001b[0m\u001b[0;34m\u001b[0m\u001b[0m\n\u001b[0;32m-> 1219\u001b[0;31m                 \u001b[0;32mraise\u001b[0m \u001b[0mKeyboardInterrupt\u001b[0m\u001b[0;34m(\u001b[0m\u001b[0;34m\"Interrupted by user\"\u001b[0m\u001b[0;34m)\u001b[0m \u001b[0;32mfrom\u001b[0m \u001b[0;32mNone\u001b[0m\u001b[0;34m\u001b[0m\u001b[0;34m\u001b[0m\u001b[0m\n\u001b[0m\u001b[1;32m   1220\u001b[0m             \u001b[0;32mexcept\u001b[0m \u001b[0mException\u001b[0m\u001b[0;34m:\u001b[0m\u001b[0;34m\u001b[0m\u001b[0;34m\u001b[0m\u001b[0m\n\u001b[1;32m   1221\u001b[0m                 \u001b[0mself\u001b[0m\u001b[0;34m.\u001b[0m\u001b[0mlog\u001b[0m\u001b[0;34m.\u001b[0m\u001b[0mwarning\u001b[0m\u001b[0;34m(\u001b[0m\u001b[0;34m\"Invalid Message:\"\u001b[0m\u001b[0;34m,\u001b[0m \u001b[0mexc_info\u001b[0m\u001b[0;34m=\u001b[0m\u001b[0;32mTrue\u001b[0m\u001b[0;34m)\u001b[0m\u001b[0;34m\u001b[0m\u001b[0;34m\u001b[0m\u001b[0m\n",
            "\u001b[0;31mKeyboardInterrupt\u001b[0m: Interrupted by user"
          ]
        }
      ]
    },
    {
      "cell_type": "code",
      "source": [
        "# prompt: criar um programa de arquivamento de cadastro de jogos de tabuleiro com as sequintes informacoes: nome do jogo, tipo de jogo, editora e preco\n",
        "# os jogos devem ser salvos na memória do programa\n",
        "\n",
        "jogos = []\n",
        "\n",
        "def exibir_menu_jogos():\n",
        "    print(\"\\nMenu de Jogos de Tabuleiro:\")\n",
        "    print(\"1. Cadastrar novo jogo\")\n",
        "    print(\"2. Listar jogos cadastrados\")\n",
        "    print(\"3. Sair\")\n",
        "\n",
        "def cadastrar_novo_jogo():\n",
        "    print(\"\\n--- Cadastrar Novo Jogo ---\")\n",
        "    nome = input(\"Nome do jogo: \")\n",
        "    tipo = input(\"Tipo de jogo: \")\n",
        "    editora = input(\"Editora: \")\n",
        "    preco = input(\"Preço: \")\n",
        "\n",
        "    novo_jogo = {\"nome\": nome, \"tipo\": tipo, \"editora\": editora, \"preco\": preco}\n",
        "    jogos.append(novo_jogo)\n",
        "    print(\"Jogo cadastrado com sucesso!\")\n",
        "\n",
        "def listar_jogos():\n",
        "    print(\"\\n--- Jogos Cadastrados ---\")\n",
        "    if not jogos:\n",
        "        print(\"Nenhum jogo cadastrado ainda.\")\n",
        "    else:\n",
        "        for jogo in jogos:\n",
        "            print(f\"Nome: {jogo['nome']}, Tipo: {jogo['tipo']}, Editora: {jogo['editora']}, Preço: {jogo['preco']}\")\n",
        "\n",
        "def main_jogos():\n",
        "    while True:\n",
        "        exibir_menu_jogos()\n",
        "        opcao = input(\"Escolha uma opção: \")\n",
        "\n",
        "        if opcao == '1':\n",
        "            cadastrar_novo_jogo()\n",
        "        elif opcao == '2':\n",
        "            listar_jogos()\n",
        "        elif opcao == '3':\n",
        "            print(\"Saindo do programa de arquivamento de jogos.\")\n",
        "            break\n",
        "        else:\n",
        "            print(\"Opção inválida. Tente novamente.\")\n",
        "\n",
        "if __name__ == '__main__':\n",
        "    main_jogos()\n"
      ],
      "metadata": {
        "colab": {
          "base_uri": "https://localhost:8080/"
        },
        "id": "we7tpIaxkvc1",
        "outputId": "d28779ec-8bcb-454b-9e95-8a87caa7e7f8"
      },
      "execution_count": null,
      "outputs": [
        {
          "metadata": {
            "tags": null
          },
          "name": "stdout",
          "output_type": "stream",
          "text": [
            "\n",
            "Menu de Jogos de Tabuleiro:\n",
            "1. Cadastrar novo jogo\n",
            "2. Listar jogos cadastrados\n",
            "3. Sair\n",
            "\n",
            "--- Jogos Cadastrados ---\n",
            "Nenhum jogo cadastrado ainda.\n",
            "\n",
            "Menu de Jogos de Tabuleiro:\n",
            "1. Cadastrar novo jogo\n",
            "2. Listar jogos cadastrados\n",
            "3. Sair\n"
          ]
        }
      ]
    },
    {
      "cell_type": "markdown",
      "source": [],
      "metadata": {
        "id": "6eWmkzmKi0Vc"
      }
    }
  ]
}